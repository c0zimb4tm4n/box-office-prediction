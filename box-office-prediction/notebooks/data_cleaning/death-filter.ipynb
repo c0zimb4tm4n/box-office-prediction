{
 "cells": [
  {
   "cell_type": "code",
   "execution_count": 3,
   "id": "ba543c02",
   "metadata": {},
   "outputs": [],
   "source": [
    "import pandas as pd\n",
    "import csv"
   ]
  },
  {
   "cell_type": "code",
   "execution_count": 5,
   "id": "a30f2021",
   "metadata": {},
   "outputs": [
    {
     "name": "stdout",
     "output_type": "stream",
     "text": [
      "           tconst           actor   actress       director      producer  \\\n",
      "0       tt0035423    Hugh Jackman  Meg Ryan  James Mangold  Cathy Konrad   \n",
      "1       tt0035423    Hugh Jackman  Meg Ryan  James Mangold  Cathy Konrad   \n",
      "2       tt0035423    Hugh Jackman  Meg Ryan  James Mangold  Cathy Konrad   \n",
      "3       tt0035423  Liev Schreiber  Meg Ryan  James Mangold  Cathy Konrad   \n",
      "4       tt0035423  Liev Schreiber  Meg Ryan  James Mangold  Cathy Konrad   \n",
      "...           ...             ...       ...            ...           ...   \n",
      "295986  tt9883832         missing   missing   Brett Morgen       missing   \n",
      "295987  tt9883832         missing   missing   Brett Morgen       missing   \n",
      "295988  tt9883832         missing   missing   Brett Morgen       missing   \n",
      "295989  tt9883832         missing   missing   Brett Morgen       missing   \n",
      "295990  tt9883832         missing   missing   Brett Morgen       missing   \n",
      "\n",
      "               writer  averageRating  numVotes titleType      primaryTitle  \\\n",
      "0       Steven Rogers            6.4     88586     movie    Kate & Leopold   \n",
      "1       Steven Rogers            6.4     88586     movie    Kate & Leopold   \n",
      "2       Steven Rogers            6.4     88586     movie    Kate & Leopold   \n",
      "3       Steven Rogers            6.4     88586     movie    Kate & Leopold   \n",
      "4       Steven Rogers            6.4     88586     movie    Kate & Leopold   \n",
      "...               ...            ...       ...       ...               ...   \n",
      "295986        missing            7.7     14003     movie  Moonage Daydream   \n",
      "295987        missing            7.7     14003     movie  Moonage Daydream   \n",
      "295988        missing            7.7     14003     movie  Moonage Daydream   \n",
      "295989        missing            7.7     14003     movie  Moonage Daydream   \n",
      "295990        missing            7.7     14003     movie  Moonage Daydream   \n",
      "\n",
      "        isAdult  startYear  runtimeMinutes       genres  inflation_corrector  \\\n",
      "0             0       2001             118       Comedy             1.720508   \n",
      "1             0       2001             118      Fantasy             1.720508   \n",
      "2             0       2001             118      Romance             1.720508   \n",
      "3             0       2001             118       Comedy             1.720508   \n",
      "4             0       2001             118      Fantasy             1.720508   \n",
      "...         ...        ...             ...          ...                  ...   \n",
      "295986        0       2022             135  Documentary             1.041165   \n",
      "295987        0       2022             135      History             1.041165   \n",
      "295988        0       2022             135    Biography             1.041165   \n",
      "295989        0       2022             135  Documentary             1.041165   \n",
      "295990        0       2022             135      History             1.041165   \n",
      "\n",
      "        Revenue_InflationCorrected Production_Company  \n",
      "0                        130791394            Miramax  \n",
      "1                        130791394            Miramax  \n",
      "2                        130791394            Miramax  \n",
      "3                        130791394            Miramax  \n",
      "4                        130791394            Miramax  \n",
      "...                            ...                ...  \n",
      "295986                    13634862               Neon  \n",
      "295987                    13634862               Neon  \n",
      "295988                    13634862               Neon  \n",
      "295989                    13634862               Neon  \n",
      "295990                    13634862               Neon  \n",
      "\n",
      "[295991 rows x 17 columns]\n"
     ]
    }
   ],
   "source": [
    "df_v5 = pd.read_csv('../../../data/cleaned/data_clean_v5.csv')\n",
    "\n",
    "print(df_v5)"
   ]
  },
  {
   "cell_type": "code",
   "execution_count": 6,
   "id": "6734aa2e",
   "metadata": {},
   "outputs": [
    {
     "name": "stdout",
     "output_type": "stream",
     "text": [
      "             nconst         primaryName birthYear deathYear  \\\n",
      "0         nm0000001        Fred Astaire      1899      1987   \n",
      "1         nm0000002       Lauren Bacall      1924      2014   \n",
      "2         nm0000003     Brigitte Bardot      1934        \\N   \n",
      "3         nm0000004        John Belushi      1949      1982   \n",
      "4         nm0000005      Ingmar Bergman      1918      2007   \n",
      "...             ...                 ...       ...       ...   \n",
      "13255429  nm9993714   Romeo del Rosario        \\N        \\N   \n",
      "13255430  nm9993716       Essias Loberg        \\N        \\N   \n",
      "13255431  nm9993717  Harikrishnan Rajan        \\N        \\N   \n",
      "13255432  nm9993718         Aayush Nair        \\N        \\N   \n",
      "13255433  nm9993719          Andre Hill        \\N        \\N   \n",
      "\n",
      "                            primaryProfession  \\\n",
      "0              soundtrack,actor,miscellaneous   \n",
      "1                          actress,soundtrack   \n",
      "2         actress,soundtrack,music_department   \n",
      "3                     actor,soundtrack,writer   \n",
      "4                       writer,director,actor   \n",
      "...                                       ...   \n",
      "13255429  animation_department,art_department   \n",
      "13255430                                  NaN   \n",
      "13255431                      cinematographer   \n",
      "13255432                      cinematographer   \n",
      "13255433                                  NaN   \n",
      "\n",
      "                                   knownForTitles  \n",
      "0         tt0050419,tt0072308,tt0027125,tt0053137  \n",
      "1         tt0037382,tt0075213,tt0117057,tt0038355  \n",
      "2         tt0049189,tt0054452,tt0056404,tt0057345  \n",
      "3         tt0078723,tt0072562,tt0080455,tt0077975  \n",
      "4         tt0050986,tt0069467,tt0083922,tt0050976  \n",
      "...                                           ...  \n",
      "13255429          tt2455546,tt11657662,tt14069590  \n",
      "13255430                                       \\N  \n",
      "13255431                                tt8736744  \n",
      "13255432                                tt8736744  \n",
      "13255433                                       \\N  \n",
      "\n",
      "[13255434 rows x 6 columns]\n"
     ]
    }
   ],
   "source": [
    "df_name = pd.read_csv('../../../data/raw/name.tsv',sep='\\t')\n",
    "print(df_name)"
   ]
  },
  {
   "cell_type": "code",
   "execution_count": 7,
   "id": "62837ce6",
   "metadata": {},
   "outputs": [
    {
     "name": "stdout",
     "output_type": "stream",
     "text": [
      "           tconst           actor   actress       director      producer  \\\n",
      "0       tt0035423    Hugh Jackman  Meg Ryan  James Mangold  Cathy Konrad   \n",
      "1       tt0035423    Hugh Jackman  Meg Ryan  James Mangold  Cathy Konrad   \n",
      "2       tt0035423    Hugh Jackman  Meg Ryan  James Mangold  Cathy Konrad   \n",
      "3       tt0035423  Liev Schreiber  Meg Ryan  James Mangold  Cathy Konrad   \n",
      "4       tt0035423  Liev Schreiber  Meg Ryan  James Mangold  Cathy Konrad   \n",
      "...           ...             ...       ...            ...           ...   \n",
      "295986  tt9883832         missing   missing   Brett Morgen       missing   \n",
      "295987  tt9883832         missing   missing   Brett Morgen       missing   \n",
      "295988  tt9883832         missing   missing   Brett Morgen       missing   \n",
      "295989  tt9883832         missing   missing   Brett Morgen       missing   \n",
      "295990  tt9883832         missing   missing   Brett Morgen       missing   \n",
      "\n",
      "               writer  averageRating  numVotes titleType      primaryTitle  \\\n",
      "0       Steven Rogers            6.4     88586     movie    Kate & Leopold   \n",
      "1       Steven Rogers            6.4     88586     movie    Kate & Leopold   \n",
      "2       Steven Rogers            6.4     88586     movie    Kate & Leopold   \n",
      "3       Steven Rogers            6.4     88586     movie    Kate & Leopold   \n",
      "4       Steven Rogers            6.4     88586     movie    Kate & Leopold   \n",
      "...               ...            ...       ...       ...               ...   \n",
      "295986        missing            7.7     14003     movie  Moonage Daydream   \n",
      "295987        missing            7.7     14003     movie  Moonage Daydream   \n",
      "295988        missing            7.7     14003     movie  Moonage Daydream   \n",
      "295989        missing            7.7     14003     movie  Moonage Daydream   \n",
      "295990        missing            7.7     14003     movie  Moonage Daydream   \n",
      "\n",
      "        isAdult  startYear  runtimeMinutes       genres  inflation_corrector  \\\n",
      "0             0       2001             118       Comedy             1.720508   \n",
      "1             0       2001             118      Fantasy             1.720508   \n",
      "2             0       2001             118      Romance             1.720508   \n",
      "3             0       2001             118       Comedy             1.720508   \n",
      "4             0       2001             118      Fantasy             1.720508   \n",
      "...         ...        ...             ...          ...                  ...   \n",
      "295986        0       2022             135  Documentary             1.041165   \n",
      "295987        0       2022             135      History             1.041165   \n",
      "295988        0       2022             135    Biography             1.041165   \n",
      "295989        0       2022             135  Documentary             1.041165   \n",
      "295990        0       2022             135      History             1.041165   \n",
      "\n",
      "        Revenue_InflationCorrected Production_Company  \n",
      "0                        130791394            Miramax  \n",
      "1                        130791394            Miramax  \n",
      "2                        130791394            Miramax  \n",
      "3                        130791394            Miramax  \n",
      "4                        130791394            Miramax  \n",
      "...                            ...                ...  \n",
      "295986                    13634862               Neon  \n",
      "295987                    13634862               Neon  \n",
      "295988                    13634862               Neon  \n",
      "295989                    13634862               Neon  \n",
      "295990                    13634862               Neon  \n",
      "\n",
      "[224611 rows x 17 columns]\n"
     ]
    }
   ],
   "source": [
    "deceased_individuals = df_name[df_name['deathYear'] != '\\\\N']\n",
    "deceased_names = set(deceased_individuals['primaryName'])\n",
    "mask = (~df_v5['actor'].isin(deceased_names)) & \\\n",
    "       (~df_v5['actress'].isin(deceased_names)) & \\\n",
    "       (~df_v5['director'].isin(deceased_names))\n",
    "\n",
    "df_v5_filtered = df_v5[mask]\n",
    "\n",
    "print(df_v5_filtered)\n"
   ]
  },
  {
   "cell_type": "code",
   "execution_count": 9,
   "id": "f63932d6",
   "metadata": {},
   "outputs": [],
   "source": [
    "df_v5_filtered.to_csv('../../../data/cleaned/data_clean_v6.csv', index=False)"
   ]
  },
  {
   "cell_type": "code",
   "execution_count": 1,
   "id": "63aeb7cc",
   "metadata": {},
   "outputs": [
    {
     "data": {
      "text/plain": [
       "'/Users/Trisha/Desktop/Software Des/PROJECT/box-office-prediction/box-office-prediction/notebooks/data_cleaning'"
      ]
     },
     "execution_count": 1,
     "metadata": {},
     "output_type": "execute_result"
    }
   ],
   "source": []
  },
  {
   "cell_type": "code",
   "execution_count": null,
   "id": "9888c541",
   "metadata": {},
   "outputs": [],
   "source": []
  }
 ],
 "metadata": {
  "kernelspec": {
   "display_name": "Python 3 (ipykernel)",
   "language": "python",
   "name": "python3"
  },
  "language_info": {
   "codemirror_mode": {
    "name": "ipython",
    "version": 3
   },
   "file_extension": ".py",
   "mimetype": "text/x-python",
   "name": "python",
   "nbconvert_exporter": "python",
   "pygments_lexer": "ipython3",
   "version": "3.11.5"
  }
 },
 "nbformat": 4,
 "nbformat_minor": 5
}
