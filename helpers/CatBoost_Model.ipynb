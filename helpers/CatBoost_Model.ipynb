{
 "cells": [
  {
   "cell_type": "code",
   "execution_count": 2,
   "id": "4bb0ed4e",
   "metadata": {},
   "outputs": [],
   "source": [
    "import pandas as pd\n",
    "import catboost as cb\n",
    "from sklearn.model_selection import train_test_split\n",
    "from sklearn.metrics import mean_squared_error"
   ]
  },
  {
   "cell_type": "code",
   "execution_count": 8,
   "id": "05165a74",
   "metadata": {},
   "outputs": [],
   "source": [
    "df = pd.read_csv('data_clean_v2.csv')\n",
    "for col in ['actor', 'actress', 'director', 'writer', 'genres']:\n",
    "    df[col] = df[col].fillna('missing')"
   ]
  },
  {
   "cell_type": "code",
   "execution_count": 9,
   "id": "61d6f730",
   "metadata": {},
   "outputs": [],
   "source": [
    "features = ['actor', 'actress', 'director', 'writer', 'runtimeMinutes', 'genres', 'isAdult']\n",
    "target = 'averageRating'"
   ]
  },
  {
   "cell_type": "code",
   "execution_count": 10,
   "id": "d9597b15",
   "metadata": {},
   "outputs": [],
   "source": [
    "X_train, X_test, y_train, y_test = train_test_split(df[features], df[target], test_size=0.3, random_state=42)\n",
    "\n",
    "categorical_features_indices = [X_train.columns.get_loc(col) for col in ['actor', 'actress', 'director', 'writer', 'genres']]"
   ]
  },
  {
   "cell_type": "code",
   "execution_count": 13,
   "id": "4810d0f1",
   "metadata": {},
   "outputs": [
    {
     "name": "stdout",
     "output_type": "stream",
     "text": [
      "0:\tlearn: 0.9466028\ttest: 0.9470474\tbest: 0.9470474 (0)\ttotal: 33.4ms\tremaining: 1m 6s\n",
      "100:\tlearn: 0.5809680\ttest: 0.5617582\tbest: 0.5617582 (100)\ttotal: 2.91s\tremaining: 54.7s\n",
      "200:\tlearn: 0.5606009\ttest: 0.5405922\tbest: 0.5405922 (200)\ttotal: 6.24s\tremaining: 55.9s\n",
      "300:\tlearn: 0.5466476\ttest: 0.5250280\tbest: 0.5250280 (300)\ttotal: 9.72s\tremaining: 54.9s\n",
      "400:\tlearn: 0.5364768\ttest: 0.5138385\tbest: 0.5138385 (400)\ttotal: 13.2s\tremaining: 52.7s\n",
      "500:\tlearn: 0.5277987\ttest: 0.5046548\tbest: 0.5046548 (500)\ttotal: 16.9s\tremaining: 50.4s\n",
      "600:\tlearn: 0.5205155\ttest: 0.4970481\tbest: 0.4970481 (600)\ttotal: 20.5s\tremaining: 47.7s\n",
      "700:\tlearn: 0.5132077\ttest: 0.4895220\tbest: 0.4895220 (700)\ttotal: 24.1s\tremaining: 44.6s\n",
      "800:\tlearn: 0.5070755\ttest: 0.4830030\tbest: 0.4830030 (800)\ttotal: 27.7s\tremaining: 41.4s\n",
      "900:\tlearn: 0.4999560\ttest: 0.4757590\tbest: 0.4757590 (900)\ttotal: 31.4s\tremaining: 38.3s\n",
      "1000:\tlearn: 0.4947839\ttest: 0.4702814\tbest: 0.4702814 (1000)\ttotal: 35s\tremaining: 35s\n",
      "1100:\tlearn: 0.4896342\ttest: 0.4650415\tbest: 0.4650415 (1100)\ttotal: 38.7s\tremaining: 31.6s\n",
      "1200:\tlearn: 0.4851230\ttest: 0.4602593\tbest: 0.4602593 (1200)\ttotal: 42.3s\tremaining: 28.1s\n",
      "1300:\tlearn: 0.4799643\ttest: 0.4548534\tbest: 0.4548534 (1300)\ttotal: 45.8s\tremaining: 24.6s\n",
      "1400:\tlearn: 0.4754750\ttest: 0.4500445\tbest: 0.4500445 (1400)\ttotal: 49.4s\tremaining: 21.1s\n",
      "1500:\tlearn: 0.4719007\ttest: 0.4464151\tbest: 0.4464151 (1500)\ttotal: 53.2s\tremaining: 17.7s\n",
      "1600:\tlearn: 0.4681787\ttest: 0.4425409\tbest: 0.4425409 (1600)\ttotal: 57s\tremaining: 14.2s\n",
      "1700:\tlearn: 0.4648265\ttest: 0.4393436\tbest: 0.4393436 (1700)\ttotal: 1m\tremaining: 10.7s\n",
      "1800:\tlearn: 0.4612192\ttest: 0.4356009\tbest: 0.4356009 (1800)\ttotal: 1m 4s\tremaining: 7.11s\n",
      "1900:\tlearn: 0.4581633\ttest: 0.4325393\tbest: 0.4325393 (1900)\ttotal: 1m 8s\tremaining: 3.56s\n",
      "1999:\tlearn: 0.4549804\ttest: 0.4292941\tbest: 0.4292941 (1999)\ttotal: 1m 12s\tremaining: 0us\n",
      "\n",
      "bestTest = 0.4292941024\n",
      "bestIteration = 1999\n",
      "\n"
     ]
    },
    {
     "data": {
      "text/plain": [
       "<catboost.core.CatBoostRegressor at 0x15f9f66d0>"
      ]
     },
     "execution_count": 13,
     "metadata": {},
     "output_type": "execute_result"
    }
   ],
   "source": [
    "model = cb.CatBoostRegressor(\n",
    "    iterations=2000,\n",
    "    learning_rate=0.1,\n",
    "    depth=7,\n",
    "    eval_metric='RMSE',\n",
    "    cat_features=categorical_features_indices,\n",
    "    use_best_model=True\n",
    ")\n",
    "\n",
    "model.fit(X_train, y_train, eval_set=(X_test, y_test), early_stopping_rounds=50, verbose=100)\n"
   ]
  },
  {
   "cell_type": "code",
   "execution_count": 14,
   "id": "15c0704d",
   "metadata": {},
   "outputs": [
    {
     "name": "stdout",
     "output_type": "stream",
     "text": [
      "Root Mean Squared Error: 0.42929409168921634\n"
     ]
    }
   ],
   "source": [
    "\n",
    "y_pred = model.predict(X_test)\n",
    "\n",
    "rmse = mean_squared_error(y_test, y_pred, squared=False)\n",
    "print(f'Root Mean Squared Error: {rmse}')"
   ]
  },
  {
   "cell_type": "code",
   "execution_count": 37,
   "id": "b5ef7d4a",
   "metadata": {},
   "outputs": [
    {
     "name": "stdout",
     "output_type": "stream",
     "text": [
      "Predicted Rating: 6.47580558878023\n"
     ]
    }
   ],
   "source": [
    "hypothetical_movie = {\n",
    "    'actor': 'Robert Downey Jr.',\n",
    "    'actress': '',\n",
    "    'director': '',\n",
    "    'writer': '',\n",
    "    'runtimeMinutes': 150,\n",
    "    'genres': 'Horror',\n",
    "    'isAdult': 0\n",
    "}\n",
    "\n",
    "new_data = pd.DataFrame([hypothetical_movie])\n",
    "\n",
    "predicted_rating = model.predict(new_data)\n",
    "print(f'Predicted Rating: {predicted_rating[0]}')\n"
   ]
  },
  {
   "cell_type": "code",
   "execution_count": null,
   "id": "df82a044",
   "metadata": {},
   "outputs": [],
   "source": [
    "model.save_model(\"CatBoosy\")"
   ]
  }
 ],
 "metadata": {
  "kernelspec": {
   "display_name": "Python 3 (ipykernel)",
   "language": "python",
   "name": "python3"
  },
  "language_info": {
   "codemirror_mode": {
    "name": "ipython",
    "version": 3
   },
   "file_extension": ".py",
   "mimetype": "text/x-python",
   "name": "python",
   "nbconvert_exporter": "python",
   "pygments_lexer": "ipython3",
   "version": "3.11.5"
  }
 },
 "nbformat": 4,
 "nbformat_minor": 5
}
