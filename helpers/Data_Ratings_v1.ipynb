{
 "cells": [
  {
   "cell_type": "code",
   "execution_count": 3,
   "id": "edba447f",
   "metadata": {},
   "outputs": [],
   "source": [
    "import pandas as pd\n",
    "import csv"
   ]
  },
  {
   "cell_type": "code",
   "execution_count": 4,
   "id": "4d7f9d1e",
   "metadata": {},
   "outputs": [],
   "source": [
    "dtype_dict1 = {\n",
    "    'tconst': str,\n",
    "    'nconst': str \n",
    "}\n",
    "\n",
    "# dtype_dict2 = {'budget': float,\n",
    "#     'popularity': float,\n",
    "#     'revenue': float, \n",
    "#     'runtime': int,\n",
    "#     'vote_average': float,\n",
    "#     'vote_count': int\n",
    "# }"
   ]
  },
  {
   "cell_type": "code",
   "execution_count": 5,
   "id": "661bb458",
   "metadata": {},
   "outputs": [
    {
     "name": "stdout",
     "output_type": "stream",
     "text": [
      "            tconst  averageRating  numVotes\n",
      "0        tt0000001            5.7      2025\n",
      "1        tt0000002            5.7       272\n",
      "2        tt0000003            6.5      1958\n",
      "3        tt0000004            5.4       178\n",
      "4        tt0000005            6.2      2724\n",
      "...            ...            ...       ...\n",
      "1402255  tt9916730            7.0        12\n",
      "1402256  tt9916766            7.1        23\n",
      "1402257  tt9916778            7.2        36\n",
      "1402258  tt9916840            8.8         6\n",
      "1402259  tt9916880            8.2         6\n",
      "\n",
      "[1402260 rows x 3 columns]\n"
     ]
    }
   ],
   "source": [
    "#OG_title_ratings\n",
    "\n",
    "df_title_ratings = pd.read_csv('/Users/Trisha/Desktop/Software Des/Boxoffice/dataset/title ratings.tsv',sep='\\t', dtype=dtype_dict1)\n",
    "\n",
    "print(df_title_ratings)\n",
    "#df_ogratings.columns"
   ]
  },
  {
   "cell_type": "code",
   "execution_count": 6,
   "id": "08423581",
   "metadata": {},
   "outputs": [
    {
     "name": "stdout",
     "output_type": "stream",
     "text": [
      "0\n"
     ]
    }
   ],
   "source": [
    "unique_values_count = df_title_ratings['tconst'].nunique()\n",
    "null_count = df_title_ratings['tconst'].isnull().sum()\n",
    "print(null_count)"
   ]
  },
  {
   "cell_type": "code",
   "execution_count": 7,
   "id": "a0b4d8a5",
   "metadata": {},
   "outputs": [
    {
     "name": "stdout",
     "output_type": "stream",
     "text": [
      "             nconst         primaryName birthYear deathYear  \\\n",
      "0         nm0000001        Fred Astaire      1899      1987   \n",
      "1         nm0000002       Lauren Bacall      1924      2014   \n",
      "2         nm0000003     Brigitte Bardot      1934        \\N   \n",
      "3         nm0000004        John Belushi      1949      1982   \n",
      "4         nm0000005      Ingmar Bergman      1918      2007   \n",
      "...             ...                 ...       ...       ...   \n",
      "13255429  nm9993714   Romeo del Rosario        \\N        \\N   \n",
      "13255430  nm9993716       Essias Loberg        \\N        \\N   \n",
      "13255431  nm9993717  Harikrishnan Rajan        \\N        \\N   \n",
      "13255432  nm9993718         Aayush Nair        \\N        \\N   \n",
      "13255433  nm9993719          Andre Hill        \\N        \\N   \n",
      "\n",
      "                            primaryProfession  \\\n",
      "0              soundtrack,actor,miscellaneous   \n",
      "1                          actress,soundtrack   \n",
      "2         actress,soundtrack,music_department   \n",
      "3                     actor,soundtrack,writer   \n",
      "4                       writer,director,actor   \n",
      "...                                       ...   \n",
      "13255429  animation_department,art_department   \n",
      "13255430                                  NaN   \n",
      "13255431                      cinematographer   \n",
      "13255432                      cinematographer   \n",
      "13255433                                  NaN   \n",
      "\n",
      "                                   knownForTitles  \n",
      "0         tt0050419,tt0072308,tt0027125,tt0053137  \n",
      "1         tt0037382,tt0075213,tt0117057,tt0038355  \n",
      "2         tt0049189,tt0054452,tt0056404,tt0057345  \n",
      "3         tt0078723,tt0072562,tt0080455,tt0077975  \n",
      "4         tt0050986,tt0069467,tt0083922,tt0050976  \n",
      "...                                           ...  \n",
      "13255429          tt2455546,tt11657662,tt14069590  \n",
      "13255430                                       \\N  \n",
      "13255431                                tt8736744  \n",
      "13255432                                tt8736744  \n",
      "13255433                                       \\N  \n",
      "\n",
      "[13255434 rows x 6 columns]\n"
     ]
    }
   ],
   "source": [
    "#OG_name\n",
    "\n",
    "df_name = pd.read_csv('/Users/Trisha/Desktop/Software Des/Boxoffice/dataset/name.tsv',sep='\\t', dtype=dtype_dict1 )\n",
    "\n",
    "print(df_name)\n",
    "#df_name.columns"
   ]
  },
  {
   "cell_type": "code",
   "execution_count": 8,
   "id": "4577309f",
   "metadata": {},
   "outputs": [
    {
     "name": "stdout",
     "output_type": "stream",
     "text": [
      "13255434\n"
     ]
    }
   ],
   "source": [
    "unique_values_count2 = df_name['nconst'].nunique()\n",
    "null_count2 = df_name['nconst'].isnull().sum()\n",
    "print(unique_values_count2)"
   ]
  },
  {
   "cell_type": "code",
   "execution_count": 13,
   "id": "91f13e81",
   "metadata": {},
   "outputs": [
    {
     "name": "stderr",
     "output_type": "stream",
     "text": [
      "/var/folders/pc/g7llzl3517q8v_lqg7_6_5_40000gn/T/ipykernel_99026/2301378872.py:3: DtypeWarning: Columns (4) have mixed types. Specify dtype option on import or set low_memory=False.\n",
      "  df_title_basics = pd.read_csv('/Users/Trisha/Desktop/Software Des/Boxoffice/dataset/title basics.tsv',sep='\\t')\n"
     ]
    },
    {
     "name": "stdout",
     "output_type": "stream",
     "text": [
      "             tconst  titleType               primaryTitle  \\\n",
      "0         tt0000001      short                 Carmencita   \n",
      "1         tt0000002      short     Le clown et ses chiens   \n",
      "2         tt0000003      short             Pauvre Pierrot   \n",
      "3         tt0000004      short                Un bon bock   \n",
      "4         tt0000005      short           Blacksmith Scene   \n",
      "...             ...        ...                        ...   \n",
      "10554927  tt9916848  tvEpisode              Episode #3.17   \n",
      "10554928  tt9916850  tvEpisode              Episode #3.19   \n",
      "10554929  tt9916852  tvEpisode              Episode #3.20   \n",
      "10554930  tt9916856      short                   The Wind   \n",
      "10554931  tt9916880  tvEpisode  Horrid Henry Knows It All   \n",
      "\n",
      "                      originalTitle isAdult startYear endYear runtimeMinutes  \\\n",
      "0                        Carmencita       0      1894      \\N              1   \n",
      "1            Le clown et ses chiens       0      1892      \\N              5   \n",
      "2                    Pauvre Pierrot       0      1892      \\N              4   \n",
      "3                       Un bon bock       0      1892      \\N             12   \n",
      "4                  Blacksmith Scene       0      1893      \\N              1   \n",
      "...                             ...     ...       ...     ...            ...   \n",
      "10554927              Episode #3.17       0      2009      \\N             \\N   \n",
      "10554928              Episode #3.19       0      2010      \\N             \\N   \n",
      "10554929              Episode #3.20       0      2010      \\N             \\N   \n",
      "10554930                   The Wind       0      2015      \\N             27   \n",
      "10554931  Horrid Henry Knows It All       0      2014      \\N             10   \n",
      "\n",
      "                              genres  \n",
      "0                  Documentary,Short  \n",
      "1                    Animation,Short  \n",
      "2           Animation,Comedy,Romance  \n",
      "3                    Animation,Short  \n",
      "4                       Comedy,Short  \n",
      "...                              ...  \n",
      "10554927         Action,Drama,Family  \n",
      "10554928         Action,Drama,Family  \n",
      "10554929         Action,Drama,Family  \n",
      "10554930                       Short  \n",
      "10554931  Adventure,Animation,Comedy  \n",
      "\n",
      "[10554932 rows x 9 columns]\n"
     ]
    }
   ],
   "source": [
    "#OG_title_basic\n",
    "\n",
    "df_title_basics = pd.read_csv('/Users/Trisha/Desktop/Software Des/Boxoffice/dataset/title basics.tsv',sep='\\t')\n",
    "\n",
    "print(df_title_basics)\n",
    "#df_titlebasics.columns"
   ]
  },
  {
   "cell_type": "code",
   "execution_count": 14,
   "id": "5f52ea22",
   "metadata": {},
   "outputs": [
    {
     "name": "stdout",
     "output_type": "stream",
     "text": [
      "0\n"
     ]
    }
   ],
   "source": [
    "unique_values_count3 = df_title_basics['tconst'].nunique()\n",
    "null_count3 = df_title_basics['tconst'].isnull().sum()\n",
    "print(null_count3)"
   ]
  },
  {
   "cell_type": "code",
   "execution_count": 15,
   "id": "72a84bd0",
   "metadata": {},
   "outputs": [
    {
     "data": {
      "text/plain": [
       "Index(['tconst', 'ordering', 'nconst', 'category', 'job', 'characters'], dtype='object')"
      ]
     },
     "execution_count": 15,
     "metadata": {},
     "output_type": "execute_result"
    }
   ],
   "source": [
    "#OG_title_principals\n",
    "\n",
    "df_title_principals = pd.read_csv('/Users/Trisha/Desktop/Software Des/Boxoffice/dataset/title principals.tsv',sep='\\t', dtype=dtype_dict1)\n",
    "\n",
    "#print(df_title_principals)\n",
    "df_title_principals.columns"
   ]
  },
  {
   "cell_type": "code",
   "execution_count": 16,
   "id": "e7a27245",
   "metadata": {},
   "outputs": [
    {
     "name": "stdout",
     "output_type": "stream",
     "text": [
      "0\n"
     ]
    }
   ],
   "source": [
    "unique_values_count4 = df_title_principals['nconst'].nunique()\n",
    "null_count4 = df_title_principals['nconst'].isnull().sum()\n",
    "print(null_count4)"
   ]
  },
  {
   "cell_type": "code",
   "execution_count": 17,
   "id": "97075b82",
   "metadata": {},
   "outputs": [
    {
     "name": "stdout",
     "output_type": "stream",
     "text": [
      "            tconst                actor                          actress  \\\n",
      "0        tt0000001                  NaN                              NaN   \n",
      "1        tt0000002                  NaN                              NaN   \n",
      "2        tt0000003                  NaN                              NaN   \n",
      "3        tt0000004                  NaN                              NaN   \n",
      "4        tt0000005  nm0443482 nm0653042                              NaN   \n",
      "...            ...                  ...                              ...   \n",
      "9561692  tt9916848            nm3665668    nm5262613 nm8250913 nm8690065   \n",
      "9561693  tt9916850            nm3665668    nm5262613 nm8250913 nm8690065   \n",
      "9561694  tt9916852            nm3665668    nm5262613 nm8250913 nm8690065   \n",
      "9561695  tt9916856           nm10538646  nm3394271 nm10538650 nm10538647   \n",
      "9561696  tt9916880  nm1483166 nm0286175              nm2784764 nm0254176   \n",
      "\n",
      "        archive_footage archive_sound cinematographer              composer  \\\n",
      "0                   NaN           NaN       nm0374658                   NaN   \n",
      "1                   NaN           NaN             NaN             nm1335271   \n",
      "2                   NaN           NaN             NaN             nm1335271   \n",
      "3                   NaN           NaN             NaN             nm1335271   \n",
      "4                   NaN           NaN             NaN                   NaN   \n",
      "...                 ...           ...             ...                   ...   \n",
      "9561692             NaN           NaN             NaN             nm2900202   \n",
      "9561693             NaN           NaN             NaN   nm2898368 nm2900202   \n",
      "9561694             NaN           NaN             NaN             nm2900202   \n",
      "9561695             NaN           NaN             NaN  nm10538653 nm9228549   \n",
      "9561696             NaN           NaN             NaN                   NaN   \n",
      "\n",
      "                    director     editor   producer production_designer  \\\n",
      "0                  nm0005690        NaN        NaN                 NaN   \n",
      "1                  nm0721526        NaN        NaN                 NaN   \n",
      "2                  nm0721526  nm5442200  nm1770680                 NaN   \n",
      "3                  nm0721526        NaN        NaN                 NaN   \n",
      "4                  nm0005690        NaN  nm0249379                 NaN   \n",
      "...                      ...        ...        ...                 ...   \n",
      "9561692            nm1485677        NaN        NaN                 NaN   \n",
      "9561693            nm1485677        NaN        NaN                 NaN   \n",
      "9561694            nm1485677        NaN        NaN                 NaN   \n",
      "9561695           nm10538645        NaN        NaN                 NaN   \n",
      "9561696  nm0584014 nm0996406        NaN  nm1594058                 NaN   \n",
      "\n",
      "              self                                   writer  \n",
      "0        nm1588970                                      NaN  \n",
      "1              NaN                                      NaN  \n",
      "2              NaN                                      NaN  \n",
      "3              NaN                                      NaN  \n",
      "4              NaN                                      NaN  \n",
      "...            ...                                      ...  \n",
      "9561692        NaN  nm9187127 nm9826385 nm9299459 nm1628284  \n",
      "9561693        NaN            nm9187127 nm9826385 nm1628284  \n",
      "9561694        NaN  nm9187127 nm9826385 nm9299459 nm1628284  \n",
      "9561695        NaN                                nm6951431  \n",
      "9561696        NaN                      nm1482639 nm2586970  \n",
      "\n",
      "[9561697 rows x 13 columns]\n"
     ]
    }
   ],
   "source": [
    "#actors_pivot = actors.pivot(index='tconst', columns='ordering', values='nconst').reset_index()\n",
    "#actors_pivot.columns = [f'nconst_{col}' if isinstance(col, int) else col for col in actors_pivot.columns]\n",
    "\n",
    "\n",
    "pivot_table = df_title_principals.pivot_table(index='tconst', columns='category', values='nconst', aggfunc=lambda x: ' '.join(str(v) for v in x))\n",
    "\n",
    "pivot_table.reset_index(inplace=True)\n",
    "\n",
    "pivot_table.columns.name = None\n",
    "pivot_table.rename_axis(None, axis=1, inplace=True)\n",
    "pivot_table.rename(columns={'tconst': 'tconst'}, inplace=True)\n",
    "\n",
    "print(pivot_table)"
   ]
  },
  {
   "cell_type": "code",
   "execution_count": 18,
   "id": "d949de64",
   "metadata": {},
   "outputs": [
    {
     "name": "stdout",
     "output_type": "stream",
     "text": [
      "            tconst                actor                          actress  \\\n",
      "0        tt0000001                  NaN                              NaN   \n",
      "1        tt0000002                  NaN                              NaN   \n",
      "2        tt0000003                  NaN                              NaN   \n",
      "3        tt0000004                  NaN                              NaN   \n",
      "4        tt0000005  nm0443482 nm0653042                              NaN   \n",
      "...            ...                  ...                              ...   \n",
      "9561692  tt9916848            nm3665668    nm5262613 nm8250913 nm8690065   \n",
      "9561693  tt9916850            nm3665668    nm5262613 nm8250913 nm8690065   \n",
      "9561694  tt9916852            nm3665668    nm5262613 nm8250913 nm8690065   \n",
      "9561695  tt9916856           nm10538646  nm3394271 nm10538650 nm10538647   \n",
      "9561696  tt9916880  nm1483166 nm0286175              nm2784764 nm0254176   \n",
      "\n",
      "        archive_footage archive_sound cinematographer              composer  \\\n",
      "0                   NaN           NaN       nm0374658                   NaN   \n",
      "1                   NaN           NaN             NaN             nm1335271   \n",
      "2                   NaN           NaN             NaN             nm1335271   \n",
      "3                   NaN           NaN             NaN             nm1335271   \n",
      "4                   NaN           NaN             NaN                   NaN   \n",
      "...                 ...           ...             ...                   ...   \n",
      "9561692             NaN           NaN             NaN             nm2900202   \n",
      "9561693             NaN           NaN             NaN   nm2898368 nm2900202   \n",
      "9561694             NaN           NaN             NaN             nm2900202   \n",
      "9561695             NaN           NaN             NaN  nm10538653 nm9228549   \n",
      "9561696             NaN           NaN             NaN                   NaN   \n",
      "\n",
      "                    director     editor   producer production_designer  \\\n",
      "0                  nm0005690        NaN        NaN                 NaN   \n",
      "1                  nm0721526        NaN        NaN                 NaN   \n",
      "2                  nm0721526  nm5442200  nm1770680                 NaN   \n",
      "3                  nm0721526        NaN        NaN                 NaN   \n",
      "4                  nm0005690        NaN  nm0249379                 NaN   \n",
      "...                      ...        ...        ...                 ...   \n",
      "9561692            nm1485677        NaN        NaN                 NaN   \n",
      "9561693            nm1485677        NaN        NaN                 NaN   \n",
      "9561694            nm1485677        NaN        NaN                 NaN   \n",
      "9561695           nm10538645        NaN        NaN                 NaN   \n",
      "9561696  nm0584014 nm0996406        NaN  nm1594058                 NaN   \n",
      "\n",
      "              self                                   writer  averageRating  \\\n",
      "0        nm1588970                                      NaN            5.7   \n",
      "1              NaN                                      NaN            5.7   \n",
      "2              NaN                                      NaN            6.5   \n",
      "3              NaN                                      NaN            5.4   \n",
      "4              NaN                                      NaN            6.2   \n",
      "...            ...                                      ...            ...   \n",
      "9561692        NaN  nm9187127 nm9826385 nm9299459 nm1628284            NaN   \n",
      "9561693        NaN            nm9187127 nm9826385 nm1628284            NaN   \n",
      "9561694        NaN  nm9187127 nm9826385 nm9299459 nm1628284            NaN   \n",
      "9561695        NaN                                nm6951431            NaN   \n",
      "9561696        NaN                      nm1482639 nm2586970            8.2   \n",
      "\n",
      "         numVotes  \n",
      "0          2025.0  \n",
      "1           272.0  \n",
      "2          1958.0  \n",
      "3           178.0  \n",
      "4          2724.0  \n",
      "...           ...  \n",
      "9561692       NaN  \n",
      "9561693       NaN  \n",
      "9561694       NaN  \n",
      "9561695       NaN  \n",
      "9561696       6.0  \n",
      "\n",
      "[9561697 rows x 15 columns]\n"
     ]
    }
   ],
   "source": [
    "#MERGEEEEEEEEEEEE\n",
    "\n",
    "#merged_df1 = pd.merge(df_links, df_credits, left_on='movieId', right_on='id', how='inner')\n",
    "#merged_df1 = pd.merge(df_title_principals, df_title_ratings[['tconst', 'averageRating', 'numVotes']], on='tconst', how='left')\n",
    "#print(merged_df1)\n",
    "\n",
    "merged_df1 = pd.merge(pivot_table, df_title_ratings, on='tconst', how='left')\n",
    "print(merged_df1)\n"
   ]
  },
  {
   "cell_type": "code",
   "execution_count": 19,
   "id": "6d943dc0",
   "metadata": {},
   "outputs": [
    {
     "name": "stdout",
     "output_type": "stream",
     "text": [
      "            tconst                actor                          actress  \\\n",
      "0        tt0000001                  NaN                              NaN   \n",
      "1        tt0000002                  NaN                              NaN   \n",
      "2        tt0000003                  NaN                              NaN   \n",
      "3        tt0000004                  NaN                              NaN   \n",
      "4        tt0000005  nm0443482 nm0653042                              NaN   \n",
      "...            ...                  ...                              ...   \n",
      "9561692  tt9916848            nm3665668    nm5262613 nm8250913 nm8690065   \n",
      "9561693  tt9916850            nm3665668    nm5262613 nm8250913 nm8690065   \n",
      "9561694  tt9916852            nm3665668    nm5262613 nm8250913 nm8690065   \n",
      "9561695  tt9916856           nm10538646  nm3394271 nm10538650 nm10538647   \n",
      "9561696  tt9916880  nm1483166 nm0286175              nm2784764 nm0254176   \n",
      "\n",
      "        archive_footage archive_sound cinematographer              composer  \\\n",
      "0                   NaN           NaN       nm0374658                   NaN   \n",
      "1                   NaN           NaN             NaN             nm1335271   \n",
      "2                   NaN           NaN             NaN             nm1335271   \n",
      "3                   NaN           NaN             NaN             nm1335271   \n",
      "4                   NaN           NaN             NaN                   NaN   \n",
      "...                 ...           ...             ...                   ...   \n",
      "9561692             NaN           NaN             NaN             nm2900202   \n",
      "9561693             NaN           NaN             NaN   nm2898368 nm2900202   \n",
      "9561694             NaN           NaN             NaN             nm2900202   \n",
      "9561695             NaN           NaN             NaN  nm10538653 nm9228549   \n",
      "9561696             NaN           NaN             NaN                   NaN   \n",
      "\n",
      "                    director     editor   producer  ... averageRating  \\\n",
      "0                  nm0005690        NaN        NaN  ...           5.7   \n",
      "1                  nm0721526        NaN        NaN  ...           5.7   \n",
      "2                  nm0721526  nm5442200  nm1770680  ...           6.5   \n",
      "3                  nm0721526        NaN        NaN  ...           5.4   \n",
      "4                  nm0005690        NaN  nm0249379  ...           6.2   \n",
      "...                      ...        ...        ...  ...           ...   \n",
      "9561692            nm1485677        NaN        NaN  ...           NaN   \n",
      "9561693            nm1485677        NaN        NaN  ...           NaN   \n",
      "9561694            nm1485677        NaN        NaN  ...           NaN   \n",
      "9561695           nm10538645        NaN        NaN  ...           NaN   \n",
      "9561696  nm0584014 nm0996406        NaN  nm1594058  ...           8.2   \n",
      "\n",
      "        numVotes  titleType               primaryTitle  \\\n",
      "0         2025.0      short                 Carmencita   \n",
      "1          272.0      short     Le clown et ses chiens   \n",
      "2         1958.0      short             Pauvre Pierrot   \n",
      "3          178.0      short                Un bon bock   \n",
      "4         2724.0      short           Blacksmith Scene   \n",
      "...          ...        ...                        ...   \n",
      "9561692      NaN  tvEpisode              Episode #3.17   \n",
      "9561693      NaN  tvEpisode              Episode #3.19   \n",
      "9561694      NaN  tvEpisode              Episode #3.20   \n",
      "9561695      NaN      short                   The Wind   \n",
      "9561696      6.0  tvEpisode  Horrid Henry Knows It All   \n",
      "\n",
      "                     originalTitle isAdult startYear endYear runtimeMinutes  \\\n",
      "0                       Carmencita       0      1894      \\N              1   \n",
      "1           Le clown et ses chiens       0      1892      \\N              5   \n",
      "2                   Pauvre Pierrot       0      1892      \\N              4   \n",
      "3                      Un bon bock       0      1892      \\N             12   \n",
      "4                 Blacksmith Scene       0      1893      \\N              1   \n",
      "...                            ...     ...       ...     ...            ...   \n",
      "9561692              Episode #3.17       0      2009      \\N             \\N   \n",
      "9561693              Episode #3.19       0      2010      \\N             \\N   \n",
      "9561694              Episode #3.20       0      2010      \\N             \\N   \n",
      "9561695                   The Wind       0      2015      \\N             27   \n",
      "9561696  Horrid Henry Knows It All       0      2014      \\N             10   \n",
      "\n",
      "                             genres  \n",
      "0                 Documentary,Short  \n",
      "1                   Animation,Short  \n",
      "2          Animation,Comedy,Romance  \n",
      "3                   Animation,Short  \n",
      "4                      Comedy,Short  \n",
      "...                             ...  \n",
      "9561692         Action,Drama,Family  \n",
      "9561693         Action,Drama,Family  \n",
      "9561694         Action,Drama,Family  \n",
      "9561695                       Short  \n",
      "9561696  Adventure,Animation,Comedy  \n",
      "\n",
      "[9561697 rows x 23 columns]\n"
     ]
    }
   ],
   "source": [
    "merged_df2 = pd.merge(merged_df1, df_title_basics, on='tconst', how='left')\n",
    "print(merged_df2)"
   ]
  },
  {
   "cell_type": "code",
   "execution_count": 30,
   "id": "2d634f4a",
   "metadata": {},
   "outputs": [],
   "source": [
    "merged_df2.to_csv('/Users/Trisha/Desktop/Software Des/Boxoffice/merged_df2.csv', index=False)"
   ]
  },
  {
   "cell_type": "code",
   "execution_count": 15,
   "id": "7ccf60eb",
   "metadata": {},
   "outputs": [],
   "source": [
    "\n",
    "# import csv\n",
    "\n",
    "# new_rows = []\n",
    "\n",
    "# with open('/Users/Trisha/Desktop/Software Des/merged_df2.csv', 'r') as file:\n",
    "#     reader = csv.DictReader(file)\n",
    "    \n",
    "#     for row in reader:\n",
    "#         actors = row['actor'].split()\n",
    "#         actresses = row['actress'].split()\n",
    "        \n",
    "#         for actor in actors:\n",
    "#             new_row = row.copy() \n",
    "#             new_row['actor'] = actor\n",
    "#             new_rows.append(new_row)\n",
    "#         for actress in actresses:\n",
    "#             new_row = row.copy() \n",
    "#             new_row['actress'] = actress\n",
    "#             new_rows.append(new_row)\n",
    "\n",
    "# with open('/Users/Trisha/Desktop/Software Des/merged_df2.csv', 'w', newline='') as file:\n",
    "#     writer = csv.DictWriter(file, fieldnames=new_rows[0].keys())\n",
    "#     writer.writeheader()\n",
    "#     writer.writerows(new_rows)\n",
    "\n",
    "\n"
   ]
  },
  {
   "cell_type": "code",
   "execution_count": 35,
   "id": "d0132e59",
   "metadata": {},
   "outputs": [],
   "source": [
    "# import pandas as pd\n",
    "\n",
    "# df_stripcast = pd.read_csv('/Users/Trisha/Desktop/Software Des/Boxoffice/merged_df2.csv', low_memory=False)\n",
    "\n",
    "# df_stripcast.drop(columns=['originalTitle'], inplace=True)\n",
    "# df_stripcast.drop(columns=['archive_footage'], inplace=True)\n",
    "\n"
   ]
  },
  {
   "cell_type": "code",
   "execution_count": null,
   "id": "b13ed1d1",
   "metadata": {},
   "outputs": [],
   "source": [
    "\n",
    "# import pandas as pd\n",
    "\n",
    "# file_path = '/Users/Trisha/Desktop/Software Des/Boxoffice/merged_df2.csv'\n",
    "# dtype={'archive_sound': str}  # Adjust the columns and data types as needed\n",
    "# df_stripcast = pd.read_csv('/Users/Trisha/Desktop/Software Des/Boxoffice/merged_df2.csv', dtype=dtype, low_memory=False)\n",
    "\n",
    "# df_stripcast.drop(columns=['originalTitle'], inplace=True)\n",
    "\n",
    "# df_stripcast['actor'] = df_stripcast['actor'].fillna('')\n",
    "# df_stripcast['actress'] = df_stripcast['actress'].fillna('')\n",
    "\n",
    "# def split_actors_and_actresses(row):\n",
    "#     actors = str(row['actor']).split() if isinstance(row['actor'], str) else [] \n",
    "#     actresses = str(row['actress']).split() if isinstance(row['actress'], str) else []\n",
    "#     rows = []\n",
    "\n",
    "#     if len(actors) > 1 or len(actresses) > 1:\n",
    "#         for actor in actors:\n",
    "#             for actress in actresses:\n",
    "#                 new_row = row.copy()\n",
    "#                 new_row['actor'] = actor\n",
    "#                 new_row['actress'] = actress\n",
    "#                 rows.append(new_row)\n",
    "#     else:\n",
    "#         rows.append(row)\n",
    "\n",
    "#     return rows\n",
    "\n",
    "# new_rows = []\n",
    "# for index, row in df_stripcast.iterrows():\n",
    "#     new_rows.extend(split_actors_and_actresses(row))\n",
    "\n",
    "# result = pd.concat([df_stripcast.drop(index=None), pd.DataFrame(new_rows)], ignore_index=True)\n",
    "\n",
    "# result\n"
   ]
  },
  {
   "cell_type": "code",
   "execution_count": 19,
   "id": "2e0c0bc7",
   "metadata": {},
   "outputs": [
    {
     "name": "stdout",
     "output_type": "stream",
     "text": [
      "               actor\n",
      "0          nm0443482\n",
      "1          nm0653042\n",
      "2          nm0179163\n",
      "3          nm0183947\n",
      "4          nm0653028\n",
      "...              ...\n",
      "13368365   nm3665668\n",
      "13368366   nm3665668\n",
      "13368367  nm10538646\n",
      "13368368   nm1483166\n",
      "13368369   nm0286175\n",
      "\n",
      "[13368370 rows x 1 columns]\n"
     ]
    }
   ],
   "source": [
    "new_rows = []\n",
    "\n",
    "for index, row in merged_df2.iterrows():\n",
    "    if not pd.isna(row['actor']):\n",
    "        entries = row['actor'].split()\n",
    "        for entry in entries:\n",
    "            new_rows.append({'actor': entry})\n",
    "\n",
    "new_df = pd.DataFrame(new_rows)\n",
    "print(new_df)"
   ]
  },
  {
   "cell_type": "code",
   "execution_count": 1,
   "id": "9ed0f816",
   "metadata": {},
   "outputs": [
    {
     "ename": "NameError",
     "evalue": "name 'merged_df2' is not defined",
     "output_type": "error",
     "traceback": [
      "\u001b[0;31m---------------------------------------------------------------------------\u001b[0m",
      "\u001b[0;31mNameError\u001b[0m                                 Traceback (most recent call last)",
      "Cell \u001b[0;32mIn[1], line 4\u001b[0m\n\u001b[1;32m      1\u001b[0m new_rows \u001b[38;5;241m=\u001b[39m []\n\u001b[1;32m      3\u001b[0m \u001b[38;5;66;03m# Iterate through each row in the DataFrame\u001b[39;00m\n\u001b[0;32m----> 4\u001b[0m \u001b[38;5;28;01mfor\u001b[39;00m index, row \u001b[38;5;129;01min\u001b[39;00m merged_df2\u001b[38;5;241m.\u001b[39miterrows():\n\u001b[1;32m      5\u001b[0m     \u001b[38;5;66;03m# Iterate through each column\u001b[39;00m\n\u001b[1;32m      6\u001b[0m     \u001b[38;5;28;01mfor\u001b[39;00m column \u001b[38;5;129;01min\u001b[39;00m merged_df2\u001b[38;5;241m.\u001b[39mcolumns:\n\u001b[1;32m      7\u001b[0m         \u001b[38;5;66;03m# Check if the entry is not NaN\u001b[39;00m\n\u001b[1;32m      8\u001b[0m         \u001b[38;5;28;01mif\u001b[39;00m \u001b[38;5;129;01mnot\u001b[39;00m pd\u001b[38;5;241m.\u001b[39misna(row[column]):\n\u001b[1;32m      9\u001b[0m             \u001b[38;5;66;03m# Split entries separated by space\u001b[39;00m\n",
      "\u001b[0;31mNameError\u001b[0m: name 'merged_df2' is not defined"
     ]
    }
   ],
   "source": [
    "new_rows = []\n",
    "\n",
    "for index, row in merged_df2.iterrows():\n",
    "    for column in merged_df2.columns:\n",
    "        if not pd.isna(row[column]):\n",
    "            entries = row[column].split() if isinstance(row[column], str) else [row[column]]\n",
    "            for entry in entries:\n",
    "                new_rows.append({column: entry, **{other_column: row[other_column] for other_column in merged_df2.columns if other_column != column}})\n",
    "\n",
    "new_df = pd.DataFrame(new_rows)\n",
    "\n",
    "print(new_df)"
   ]
  },
  {
   "cell_type": "code",
   "execution_count": null,
   "id": "29176d3e",
   "metadata": {},
   "outputs": [],
   "source": []
  }
 ],
 "metadata": {
  "kernelspec": {
   "display_name": "Python 3 (ipykernel)",
   "language": "python",
   "name": "python3"
  },
  "language_info": {
   "codemirror_mode": {
    "name": "ipython",
    "version": 3
   },
   "file_extension": ".py",
   "mimetype": "text/x-python",
   "name": "python",
   "nbconvert_exporter": "python",
   "pygments_lexer": "ipython3",
   "version": "3.11.5"
  }
 },
 "nbformat": 4,
 "nbformat_minor": 5
}
