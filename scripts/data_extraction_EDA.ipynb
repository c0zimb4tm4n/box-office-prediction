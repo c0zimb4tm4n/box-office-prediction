{
 "cells": [
  {
   "cell_type": "code",
   "execution_count": 4,
   "metadata": {},
   "outputs": [],
   "source": [
    "import pandas as pd\n",
    "import requests\n",
    "import re\n",
    "import json\n",
    "from bs4 import BeautifulSoup\n",
    "import concurrent.futures\n",
    "import numpy as np\n",
    "from sklearn.model_selection import train_test_split\n",
    "from sklearn.metrics import mean_squared_error"
   ]
  },
  {
   "cell_type": "code",
   "execution_count": 2,
   "metadata": {},
   "outputs": [
    {
     "name": "stderr",
     "output_type": "stream",
     "text": [
      "C:\\Users\\Rohit\\AppData\\Local\\Temp\\ipykernel_28164\\393725127.py:1: DtypeWarning: Columns (4) have mixed types. Specify dtype option on import or set low_memory=False.\n",
      "  title_basic_data = pd.read_csv('./title.basics.tsv/data.tsv', sep='\\t')\n"
     ]
    }
   ],
   "source": [
    "title_basic_data = pd.read_csv('./title.basics.tsv/data.tsv', sep='\\t')"
   ]
  },
  {
   "cell_type": "code",
   "execution_count": 2,
   "metadata": {},
   "outputs": [
    {
     "name": "stderr",
     "output_type": "stream",
     "text": [
      "C:\\Users\\Rohit\\AppData\\Local\\Temp\\ipykernel_25396\\511126621.py:1: DtypeWarning: Columns (7) have mixed types. Specify dtype option on import or set low_memory=False.\n",
      "  title_akas_data = pd.read_csv('./title.akas.tsv/data.tsv', sep='\\t')\n"
     ]
    }
   ],
   "source": [
    "title_akas_data = pd.read_csv('./title.akas.tsv/data.tsv', sep='\\t')"
   ]
  },
  {
   "cell_type": "code",
   "execution_count": 33,
   "metadata": {},
   "outputs": [
    {
     "name": "stdout",
     "output_type": "stream",
     "text": [
      "region\n",
      "XWW     180644\n",
      "CA       89235\n",
      "IN       58553\n",
      "PH       31238\n",
      "SG       29018\n",
      "ZA       25781\n",
      "HK       15869\n",
      "ID       14047\n",
      "JP       10468\n",
      "EG        9082\n",
      "TH        8052\n",
      "IL        7456\n",
      "IE        6402\n",
      "XEU       6322\n",
      "NZ        6320\n",
      "US        3543\n",
      "AU        2251\n",
      "XAS       2036\n",
      "GB        1226\n",
      "BE        1199\n",
      "MY         788\n",
      "CH         646\n",
      "NG         616\n",
      "BD         567\n",
      "JM         524\n",
      "PK         341\n",
      "DE          38\n",
      "CN          31\n",
      "FR          23\n",
      "TW          19\n",
      "ES          15\n",
      "IT          15\n",
      "BR          11\n",
      "KR           9\n",
      "SE           7\n",
      "IR           6\n",
      "NO           5\n",
      "AE           4\n",
      "SUHH         4\n",
      "MX           4\n",
      "DK           3\n",
      "RO           3\n",
      "AF           3\n",
      "SI           2\n",
      "PT           2\n",
      "CZ           2\n",
      "AT           2\n",
      "TR           2\n",
      "XNA          2\n",
      "UA           2\n",
      "Name: count, dtype: int64\n"
     ]
    }
   ],
   "source": [
    "print(fil_akas.region.value_counts().head(50))"
   ]
  },
  {
   "cell_type": "code",
   "execution_count": 49,
   "metadata": {},
   "outputs": [
    {
     "data": {
      "text/plain": [
       "20283"
      ]
     },
     "execution_count": 49,
     "metadata": {},
     "output_type": "execute_result"
    }
   ],
   "source": [
    "list(fil_akas[(fil_akas.region == 'CA') | (fil_akas.region == 'US')]['titleId'].unique()).index('tt0120338')"
   ]
  },
  {
   "cell_type": "markdown",
   "metadata": {},
   "source": [
    "#### Filtered only English language titles from akas file"
   ]
  },
  {
   "cell_type": "code",
   "execution_count": 19,
   "metadata": {},
   "outputs": [],
   "source": [
    "fil_akas = title_akas_data[title_akas_data['language'] == 'en' ]"
   ]
  },
  {
   "cell_type": "markdown",
   "metadata": {},
   "source": [
    "#### Filtered only US and CA region to avoid regional movies"
   ]
  },
  {
   "cell_type": "code",
   "execution_count": 50,
   "metadata": {},
   "outputs": [],
   "source": [
    "fil_akas = fil_akas[(fil_akas.region == 'CA') | (fil_akas.region == 'US')]"
   ]
  },
  {
   "cell_type": "code",
   "execution_count": 52,
   "metadata": {},
   "outputs": [
    {
     "data": {
      "text/html": [
       "<div>\n",
       "<style scoped>\n",
       "    .dataframe tbody tr th:only-of-type {\n",
       "        vertical-align: middle;\n",
       "    }\n",
       "\n",
       "    .dataframe tbody tr th {\n",
       "        vertical-align: top;\n",
       "    }\n",
       "\n",
       "    .dataframe thead th {\n",
       "        text-align: right;\n",
       "    }\n",
       "</style>\n",
       "<table border=\"1\" class=\"dataframe\">\n",
       "  <thead>\n",
       "    <tr style=\"text-align: right;\">\n",
       "      <th></th>\n",
       "      <th>titleId</th>\n",
       "      <th>ordering</th>\n",
       "      <th>title</th>\n",
       "      <th>region</th>\n",
       "      <th>language</th>\n",
       "      <th>types</th>\n",
       "      <th>attributes</th>\n",
       "      <th>isOriginalTitle</th>\n",
       "    </tr>\n",
       "  </thead>\n",
       "  <tbody>\n",
       "    <tr>\n",
       "      <th>count</th>\n",
       "      <td>92778</td>\n",
       "      <td>92778.000000</td>\n",
       "      <td>92778</td>\n",
       "      <td>92778</td>\n",
       "      <td>92778</td>\n",
       "      <td>92778</td>\n",
       "      <td>92778</td>\n",
       "      <td>92778</td>\n",
       "    </tr>\n",
       "    <tr>\n",
       "      <th>unique</th>\n",
       "      <td>89994</td>\n",
       "      <td>NaN</td>\n",
       "      <td>82715</td>\n",
       "      <td>2</td>\n",
       "      <td>1</td>\n",
       "      <td>8</td>\n",
       "      <td>87</td>\n",
       "      <td>2</td>\n",
       "    </tr>\n",
       "    <tr>\n",
       "      <th>top</th>\n",
       "      <td>tt0185121</td>\n",
       "      <td>NaN</td>\n",
       "      <td>Beauty and the Beast</td>\n",
       "      <td>CA</td>\n",
       "      <td>en</td>\n",
       "      <td>imdbDisplay</td>\n",
       "      <td>\\N</td>\n",
       "      <td>0</td>\n",
       "    </tr>\n",
       "    <tr>\n",
       "      <th>freq</th>\n",
       "      <td>9</td>\n",
       "      <td>NaN</td>\n",
       "      <td>19</td>\n",
       "      <td>89235</td>\n",
       "      <td>92778</td>\n",
       "      <td>83971</td>\n",
       "      <td>90648</td>\n",
       "      <td>64050</td>\n",
       "    </tr>\n",
       "    <tr>\n",
       "      <th>mean</th>\n",
       "      <td>NaN</td>\n",
       "      <td>9.044289</td>\n",
       "      <td>NaN</td>\n",
       "      <td>NaN</td>\n",
       "      <td>NaN</td>\n",
       "      <td>NaN</td>\n",
       "      <td>NaN</td>\n",
       "      <td>NaN</td>\n",
       "    </tr>\n",
       "    <tr>\n",
       "      <th>std</th>\n",
       "      <td>NaN</td>\n",
       "      <td>9.704543</td>\n",
       "      <td>NaN</td>\n",
       "      <td>NaN</td>\n",
       "      <td>NaN</td>\n",
       "      <td>NaN</td>\n",
       "      <td>NaN</td>\n",
       "      <td>NaN</td>\n",
       "    </tr>\n",
       "    <tr>\n",
       "      <th>min</th>\n",
       "      <td>NaN</td>\n",
       "      <td>1.000000</td>\n",
       "      <td>NaN</td>\n",
       "      <td>NaN</td>\n",
       "      <td>NaN</td>\n",
       "      <td>NaN</td>\n",
       "      <td>NaN</td>\n",
       "      <td>NaN</td>\n",
       "    </tr>\n",
       "    <tr>\n",
       "      <th>25%</th>\n",
       "      <td>NaN</td>\n",
       "      <td>2.000000</td>\n",
       "      <td>NaN</td>\n",
       "      <td>NaN</td>\n",
       "      <td>NaN</td>\n",
       "      <td>NaN</td>\n",
       "      <td>NaN</td>\n",
       "      <td>NaN</td>\n",
       "    </tr>\n",
       "    <tr>\n",
       "      <th>50%</th>\n",
       "      <td>NaN</td>\n",
       "      <td>6.000000</td>\n",
       "      <td>NaN</td>\n",
       "      <td>NaN</td>\n",
       "      <td>NaN</td>\n",
       "      <td>NaN</td>\n",
       "      <td>NaN</td>\n",
       "      <td>NaN</td>\n",
       "    </tr>\n",
       "    <tr>\n",
       "      <th>75%</th>\n",
       "      <td>NaN</td>\n",
       "      <td>12.000000</td>\n",
       "      <td>NaN</td>\n",
       "      <td>NaN</td>\n",
       "      <td>NaN</td>\n",
       "      <td>NaN</td>\n",
       "      <td>NaN</td>\n",
       "      <td>NaN</td>\n",
       "    </tr>\n",
       "    <tr>\n",
       "      <th>max</th>\n",
       "      <td>NaN</td>\n",
       "      <td>243.000000</td>\n",
       "      <td>NaN</td>\n",
       "      <td>NaN</td>\n",
       "      <td>NaN</td>\n",
       "      <td>NaN</td>\n",
       "      <td>NaN</td>\n",
       "      <td>NaN</td>\n",
       "    </tr>\n",
       "  </tbody>\n",
       "</table>\n",
       "</div>"
      ],
      "text/plain": [
       "          titleId      ordering                 title region language  \\\n",
       "count       92778  92778.000000                 92778  92778    92778   \n",
       "unique      89994           NaN                 82715      2        1   \n",
       "top     tt0185121           NaN  Beauty and the Beast     CA       en   \n",
       "freq            9           NaN                    19  89235    92778   \n",
       "mean          NaN      9.044289                   NaN    NaN      NaN   \n",
       "std           NaN      9.704543                   NaN    NaN      NaN   \n",
       "min           NaN      1.000000                   NaN    NaN      NaN   \n",
       "25%           NaN      2.000000                   NaN    NaN      NaN   \n",
       "50%           NaN      6.000000                   NaN    NaN      NaN   \n",
       "75%           NaN     12.000000                   NaN    NaN      NaN   \n",
       "max           NaN    243.000000                   NaN    NaN      NaN   \n",
       "\n",
       "              types attributes isOriginalTitle  \n",
       "count         92778      92778           92778  \n",
       "unique            8         87               2  \n",
       "top     imdbDisplay         \\N               0  \n",
       "freq          83971      90648           64050  \n",
       "mean            NaN        NaN             NaN  \n",
       "std             NaN        NaN             NaN  \n",
       "min             NaN        NaN             NaN  \n",
       "25%             NaN        NaN             NaN  \n",
       "50%             NaN        NaN             NaN  \n",
       "75%             NaN        NaN             NaN  \n",
       "max             NaN        NaN             NaN  "
      ]
     },
     "execution_count": 52,
     "metadata": {},
     "output_type": "execute_result"
    }
   ],
   "source": [
    "fil_akas.describe(include='all')"
   ]
  },
  {
   "cell_type": "code",
   "execution_count": 53,
   "metadata": {},
   "outputs": [],
   "source": [
    "unique_en_movie_ids = pd.DataFrame(list(set(fil_akas['titleId'])), columns=['tconsts_en'])\n",
    "unique_en_movie_ids.to_csv(\"unique_en_movie_ids.csv\", index=False)"
   ]
  },
  {
   "cell_type": "code",
   "execution_count": 8,
   "metadata": {},
   "outputs": [],
   "source": [
    "unique_en_movie_ids = pd.read_csv(\"unique_en_movie_ids.csv\")"
   ]
  },
  {
   "cell_type": "code",
   "execution_count": 6,
   "metadata": {},
   "outputs": [
    {
     "data": {
      "text/plain": [
       "89994"
      ]
     },
     "execution_count": 6,
     "metadata": {},
     "output_type": "execute_result"
    }
   ],
   "source": [
    "len(set(unique_en_movie_ids))"
   ]
  },
  {
   "cell_type": "code",
   "execution_count": 3,
   "metadata": {},
   "outputs": [],
   "source": [
    "title_basic_data_ori = title_basic_data.copy()"
   ]
  },
  {
   "cell_type": "code",
   "execution_count": 15,
   "metadata": {},
   "outputs": [
    {
     "data": {
      "text/plain": [
       "Index(['tconst', 'titleType', 'primaryTitle', 'originalTitle', 'isAdult',\n",
       "       'startYear', 'endYear', 'runtimeMinutes', 'genres'],\n",
       "      dtype='object')"
      ]
     },
     "execution_count": 15,
     "metadata": {},
     "output_type": "execute_result"
    }
   ],
   "source": [
    "title_basic_data.columns"
   ]
  },
  {
   "cell_type": "markdown",
   "metadata": {},
   "source": [
    "#### cross refer the en tconsts and keep only those titles"
   ]
  },
  {
   "cell_type": "code",
   "execution_count": 9,
   "metadata": {},
   "outputs": [],
   "source": [
    "title_basic_data_en = title_basic_data[title_basic_data['tconst'].isin(unique_en_movie_ids['tconsts_en'])]"
   ]
  },
  {
   "cell_type": "code",
   "execution_count": 17,
   "metadata": {},
   "outputs": [
    {
     "data": {
      "text/html": [
       "<div>\n",
       "<style scoped>\n",
       "    .dataframe tbody tr th:only-of-type {\n",
       "        vertical-align: middle;\n",
       "    }\n",
       "\n",
       "    .dataframe tbody tr th {\n",
       "        vertical-align: top;\n",
       "    }\n",
       "\n",
       "    .dataframe thead th {\n",
       "        text-align: right;\n",
       "    }\n",
       "</style>\n",
       "<table border=\"1\" class=\"dataframe\">\n",
       "  <thead>\n",
       "    <tr style=\"text-align: right;\">\n",
       "      <th></th>\n",
       "      <th>tconst</th>\n",
       "      <th>titleType</th>\n",
       "      <th>primaryTitle</th>\n",
       "      <th>originalTitle</th>\n",
       "      <th>isAdult</th>\n",
       "      <th>startYear</th>\n",
       "      <th>endYear</th>\n",
       "      <th>runtimeMinutes</th>\n",
       "      <th>genres</th>\n",
       "    </tr>\n",
       "  </thead>\n",
       "  <tbody>\n",
       "    <tr>\n",
       "      <th>count</th>\n",
       "      <td>36804</td>\n",
       "      <td>36804</td>\n",
       "      <td>36804</td>\n",
       "      <td>36804</td>\n",
       "      <td>36804.0</td>\n",
       "      <td>36804.000000</td>\n",
       "      <td>36804</td>\n",
       "      <td>36804</td>\n",
       "      <td>36804</td>\n",
       "    </tr>\n",
       "    <tr>\n",
       "      <th>unique</th>\n",
       "      <td>36804</td>\n",
       "      <td>1</td>\n",
       "      <td>34682</td>\n",
       "      <td>35408</td>\n",
       "      <td>3.0</td>\n",
       "      <td>NaN</td>\n",
       "      <td>1</td>\n",
       "      <td>244</td>\n",
       "      <td>734</td>\n",
       "    </tr>\n",
       "    <tr>\n",
       "      <th>top</th>\n",
       "      <td>tt0142239</td>\n",
       "      <td>movie</td>\n",
       "      <td>Locked In</td>\n",
       "      <td>Home</td>\n",
       "      <td>0.0</td>\n",
       "      <td>NaN</td>\n",
       "      <td>\\N</td>\n",
       "      <td>90</td>\n",
       "      <td>Drama</td>\n",
       "    </tr>\n",
       "    <tr>\n",
       "      <th>freq</th>\n",
       "      <td>1</td>\n",
       "      <td>36804</td>\n",
       "      <td>6</td>\n",
       "      <td>7</td>\n",
       "      <td>36626.0</td>\n",
       "      <td>NaN</td>\n",
       "      <td>36804</td>\n",
       "      <td>1774</td>\n",
       "      <td>4471</td>\n",
       "    </tr>\n",
       "    <tr>\n",
       "      <th>mean</th>\n",
       "      <td>NaN</td>\n",
       "      <td>NaN</td>\n",
       "      <td>NaN</td>\n",
       "      <td>NaN</td>\n",
       "      <td>NaN</td>\n",
       "      <td>2014.566134</td>\n",
       "      <td>NaN</td>\n",
       "      <td>NaN</td>\n",
       "      <td>NaN</td>\n",
       "    </tr>\n",
       "    <tr>\n",
       "      <th>std</th>\n",
       "      <td>NaN</td>\n",
       "      <td>NaN</td>\n",
       "      <td>NaN</td>\n",
       "      <td>NaN</td>\n",
       "      <td>NaN</td>\n",
       "      <td>7.860231</td>\n",
       "      <td>NaN</td>\n",
       "      <td>NaN</td>\n",
       "      <td>NaN</td>\n",
       "    </tr>\n",
       "    <tr>\n",
       "      <th>min</th>\n",
       "      <td>NaN</td>\n",
       "      <td>NaN</td>\n",
       "      <td>NaN</td>\n",
       "      <td>NaN</td>\n",
       "      <td>NaN</td>\n",
       "      <td>1994.000000</td>\n",
       "      <td>NaN</td>\n",
       "      <td>NaN</td>\n",
       "      <td>NaN</td>\n",
       "    </tr>\n",
       "    <tr>\n",
       "      <th>25%</th>\n",
       "      <td>NaN</td>\n",
       "      <td>NaN</td>\n",
       "      <td>NaN</td>\n",
       "      <td>NaN</td>\n",
       "      <td>NaN</td>\n",
       "      <td>2010.000000</td>\n",
       "      <td>NaN</td>\n",
       "      <td>NaN</td>\n",
       "      <td>NaN</td>\n",
       "    </tr>\n",
       "    <tr>\n",
       "      <th>50%</th>\n",
       "      <td>NaN</td>\n",
       "      <td>NaN</td>\n",
       "      <td>NaN</td>\n",
       "      <td>NaN</td>\n",
       "      <td>NaN</td>\n",
       "      <td>2017.000000</td>\n",
       "      <td>NaN</td>\n",
       "      <td>NaN</td>\n",
       "      <td>NaN</td>\n",
       "    </tr>\n",
       "    <tr>\n",
       "      <th>75%</th>\n",
       "      <td>NaN</td>\n",
       "      <td>NaN</td>\n",
       "      <td>NaN</td>\n",
       "      <td>NaN</td>\n",
       "      <td>NaN</td>\n",
       "      <td>2021.000000</td>\n",
       "      <td>NaN</td>\n",
       "      <td>NaN</td>\n",
       "      <td>NaN</td>\n",
       "    </tr>\n",
       "    <tr>\n",
       "      <th>max</th>\n",
       "      <td>NaN</td>\n",
       "      <td>NaN</td>\n",
       "      <td>NaN</td>\n",
       "      <td>NaN</td>\n",
       "      <td>NaN</td>\n",
       "      <td>2023.000000</td>\n",
       "      <td>NaN</td>\n",
       "      <td>NaN</td>\n",
       "      <td>NaN</td>\n",
       "    </tr>\n",
       "  </tbody>\n",
       "</table>\n",
       "</div>"
      ],
      "text/plain": [
       "           tconst titleType primaryTitle originalTitle  isAdult     startYear  \\\n",
       "count       36804     36804        36804         36804  36804.0  36804.000000   \n",
       "unique      36804         1        34682         35408      3.0           NaN   \n",
       "top     tt0142239     movie    Locked In          Home      0.0           NaN   \n",
       "freq            1     36804            6             7  36626.0           NaN   \n",
       "mean          NaN       NaN          NaN           NaN      NaN   2014.566134   \n",
       "std           NaN       NaN          NaN           NaN      NaN      7.860231   \n",
       "min           NaN       NaN          NaN           NaN      NaN   1994.000000   \n",
       "25%           NaN       NaN          NaN           NaN      NaN   2010.000000   \n",
       "50%           NaN       NaN          NaN           NaN      NaN   2017.000000   \n",
       "75%           NaN       NaN          NaN           NaN      NaN   2021.000000   \n",
       "max           NaN       NaN          NaN           NaN      NaN   2023.000000   \n",
       "\n",
       "       endYear runtimeMinutes genres  \n",
       "count    36804          36804  36804  \n",
       "unique       1            244    734  \n",
       "top         \\N             90  Drama  \n",
       "freq     36804           1774   4471  \n",
       "mean       NaN            NaN    NaN  \n",
       "std        NaN            NaN    NaN  \n",
       "min        NaN            NaN    NaN  \n",
       "25%        NaN            NaN    NaN  \n",
       "50%        NaN            NaN    NaN  \n",
       "75%        NaN            NaN    NaN  \n",
       "max        NaN            NaN    NaN  "
      ]
     },
     "execution_count": 17,
     "metadata": {},
     "output_type": "execute_result"
    }
   ],
   "source": [
    "title_basic_data_en_30yr.describe(include='all')"
   ]
  },
  {
   "cell_type": "markdown",
   "metadata": {},
   "source": [
    "#### Keep only movies and those that have valid year"
   ]
  },
  {
   "cell_type": "code",
   "execution_count": 11,
   "metadata": {},
   "outputs": [],
   "source": [
    "title_basic_data_en = title_basic_data_en[title_basic_data_en['titleType'] == 'movie']\n",
    "title_basic_data_en = title_basic_data_en[title_basic_data_en['startYear'] != \"\\\\N\"]"
   ]
  },
  {
   "cell_type": "code",
   "execution_count": 13,
   "metadata": {},
   "outputs": [],
   "source": [
    "title_basic_data_en.sort_values(by='startYear', axis = 0, inplace=True)"
   ]
  },
  {
   "cell_type": "markdown",
   "metadata": {},
   "source": [
    "#### Keep only movies from the past. Future movies will not have box office collections"
   ]
  },
  {
   "cell_type": "code",
   "execution_count": 14,
   "metadata": {},
   "outputs": [],
   "source": [
    "title_basic_data_en['startYear'] = title_basic_data_en['startYear'].astype(int)\n",
    "title_basic_data_en = title_basic_data_en[title_basic_data_en['startYear'] <= 2023]"
   ]
  },
  {
   "cell_type": "markdown",
   "metadata": {},
   "source": [
    "#### Filtering on only the last 30 years"
   ]
  },
  {
   "cell_type": "code",
   "execution_count": 16,
   "metadata": {},
   "outputs": [],
   "source": [
    "title_basic_data_en_30yr = title_basic_data_en[title_basic_data_en['startYear']>1993]"
   ]
  },
  {
   "cell_type": "code",
   "execution_count": 22,
   "metadata": {},
   "outputs": [],
   "source": [
    "title_basic_data_en_70290yr = title_basic_data_en[(title_basic_data_en['startYear']<=1993) & (title_basic_data_en['startYear']>=1970)]"
   ]
  },
  {
   "cell_type": "code",
   "execution_count": 23,
   "metadata": {},
   "outputs": [
    {
     "data": {
      "text/plain": [
       "8549"
      ]
     },
     "execution_count": 23,
     "metadata": {},
     "output_type": "execute_result"
    }
   ],
   "source": [
    "len(title_basic_data_en_70290yr)"
   ]
  },
  {
   "cell_type": "code",
   "execution_count": null,
   "metadata": {},
   "outputs": [],
   "source": [
    "title_basic_data_en_70290yr.to_csv(\"title_basic_data_en_70290yr.csv\", index=False)"
   ]
  },
  {
   "cell_type": "markdown",
   "metadata": {},
   "source": [
    "#### Taking SNAPSHOT Cell"
   ]
  },
  {
   "cell_type": "code",
   "execution_count": 18,
   "metadata": {},
   "outputs": [],
   "source": [
    "title_basic_data_en_30yr.to_csv(\"title_basic_data_en_30yr.csv\", index=False)"
   ]
  },
  {
   "cell_type": "markdown",
   "metadata": {},
   "source": [
    "### Web Scrapping\n"
   ]
  },
  {
   "cell_type": "code",
   "execution_count": 23,
   "metadata": {},
   "outputs": [],
   "source": [
    "def scrape_movie_data(tconst):\n",
    "    try:\n",
    "        worldwide_collection = \"\"\n",
    "        distributor = \"\"\n",
    "        budget = \"\"\n",
    "        response = requests.get(f\"https://www.boxofficemojo.com/title/{tconst}\")\n",
    "        response.raise_for_status()\n",
    "        soup = BeautifulSoup(response.content, 'html.parser')\n",
    "        perf_summ_table = soup.find('div', class_='mojo-performance-summary-table')\n",
    "        worldwide_collections = perf_summ_table.find_all('span', string=re.compile(r'.Worldwide*'))\n",
    "        if worldwide_collections:\n",
    "            worldwide_collection = worldwide_collections[0].parent.find_all('span', class_=\"money\")[0].text\n",
    "        perf_table = soup.find('div', class_='mojo-summary-values')\n",
    "        if perf_table:\n",
    "            budgets = perf_table.find_all('span', string=re.compile(r'Budget'))\n",
    "            if budgets:\n",
    "                budget = budgets[0].next_sibling.text\n",
    "\n",
    "            distributors = perf_table.find_all('span', string=re.compile(r'.Distributor*'))\n",
    "            if distributors:\n",
    "                distributor = distributors[0].next_sibling.text\n",
    "                distributor = distributor[0:distributor.find(\"See full company information\")]\n",
    "        return (worldwide_collection, budget, distributor)\n",
    "    except Exception as e:\n",
    "        print(f\"Error scraping movie {tconst}: {e}\")\n",
    "        return None"
   ]
  },
  {
   "cell_type": "code",
   "execution_count": 26,
   "metadata": {},
   "outputs": [
    {
     "data": {
      "text/plain": [
       "('$17,810', '', '')"
      ]
     },
     "execution_count": 26,
     "metadata": {},
     "output_type": "execute_result"
    }
   ],
   "source": [
    "scrape_movie_data('tt8983210')"
   ]
  },
  {
   "cell_type": "code",
   "execution_count": null,
   "metadata": {},
   "outputs": [],
   "source": [
    "tconsts = title_basic_data_en['tconst'].tolist()\n",
    "tconsts"
   ]
  },
  {
   "cell_type": "code",
   "execution_count": 84,
   "metadata": {},
   "outputs": [
    {
     "name": "stdout",
     "output_type": "stream",
     "text": [
      "Error scraping movie tt7152802: ('Connection aborted.', ConnectionResetError(10054, 'An existing connection was forcibly closed by the remote host', None, 10054, None))\n",
      "Error scraping movie tt7153418: ('Connection aborted.', ConnectionResetError(10054, 'An existing connection was forcibly closed by the remote host', None, 10054, None))\n",
      "Error scraping movie tt20118172: 404 Client Error: Not Found for url: https://www.boxofficemojo.com/title/tt20118172/\n"
     ]
    },
    {
     "ename": "",
     "evalue": "",
     "output_type": "error",
     "traceback": [
      "\u001b[1;31mCannot execute code, session has been disposed. Please try restarting the Kernel."
     ]
    }
   ],
   "source": [
    "box_offices={}\n",
    "with concurrent.futures.ThreadPoolExecutor(max_workers=8) as executor:\n",
    "    results = executor.map(scrape_movie_data, tconsts)\n",
    "\n",
    "for tconst, result in zip(tconsts, results):\n",
    "    box_offices[tconst] = result\n",
    "    with open('box_offices.json', 'w') as file:\n",
    "            json.dump(box_offices, file)"
   ]
  },
  {
   "cell_type": "code",
   "execution_count": 64,
   "metadata": {},
   "outputs": [
    {
     "data": {
      "text/plain": [
       "121480"
      ]
     },
     "execution_count": 64,
     "metadata": {},
     "output_type": "execute_result"
    }
   ],
   "source": [
    "len(title_basic_data_en['tconst'].unique())"
   ]
  },
  {
   "cell_type": "code",
   "execution_count": null,
   "metadata": {},
   "outputs": [],
   "source": [
    "print(\"hello\")"
   ]
  },
  {
   "cell_type": "code",
   "execution_count": 13,
   "metadata": {},
   "outputs": [
    {
     "name": "stdout",
     "output_type": "stream",
     "text": [
      "RMSE: 4.998960494995117\n"
     ]
    }
   ],
   "source": [
    "data = pd.DataFrame({\n",
    "    'numerical_feature_1': [1, 2, 3, 4, 5],\n",
    "    'numerical_feature_2': [10, 20, 30, 40, 50],\n",
    "    'categorical_feature': ['A', 'B', 'A', 'B', 'A'],\n",
    "    'target': [20, 25, 30, 35, 40]\n",
    "})\n",
    "\n",
    "# Convert categorical feature to one-hot encoding\n",
    "data = pd.get_dummies(data)\n",
    "\n",
    "X = data.drop('target', axis=1) \n",
    "y = data['target']               \n",
    "\n",
    "# Split data into training and testing sets\n",
    "X_train, X_test, y_train, y_test = train_test_split(X, y, test_size=0.2, random_state=42)\n",
    "\n",
    "xgb_reg = xgb.XGBRegressor(objective='reg:squarederror', eval_metric='rmse')\n",
    "xgb_reg.fit(X_train, y_train)\n",
    "\n",
    "y_pred = xgb_reg.predict(X_test)\n",
    "\n",
    "rmse = np.sqrt(mean_squared_error(y_test, y_pred))\n",
    "print(\"RMSE:\", rmse)"
   ]
  },
  {
   "cell_type": "code",
   "execution_count": 2,
   "metadata": {},
   "outputs": [],
   "source": [
    "revenue1 = pd.read_csv('./revenue_prodcompany_70290yr_withbudget.csv')\n",
    "revenue2 = pd.read_csv('./revenue_prodcompany_90-latyr_withbudget.csv')"
   ]
  },
  {
   "cell_type": "code",
   "execution_count": 37,
   "metadata": {},
   "outputs": [
    {
     "data": {
      "text/html": [
       "<div>\n",
       "<style scoped>\n",
       "    .dataframe tbody tr th:only-of-type {\n",
       "        vertical-align: middle;\n",
       "    }\n",
       "\n",
       "    .dataframe tbody tr th {\n",
       "        vertical-align: top;\n",
       "    }\n",
       "\n",
       "    .dataframe thead th {\n",
       "        text-align: right;\n",
       "    }\n",
       "</style>\n",
       "<table border=\"1\" class=\"dataframe\">\n",
       "  <thead>\n",
       "    <tr style=\"text-align: right;\">\n",
       "      <th></th>\n",
       "      <th>tconst</th>\n",
       "      <th>Revenue</th>\n",
       "      <th>Budget</th>\n",
       "      <th>Production_Company</th>\n",
       "    </tr>\n",
       "  </thead>\n",
       "  <tbody>\n",
       "    <tr>\n",
       "      <th>count</th>\n",
       "      <td>36732</td>\n",
       "      <td>18156</td>\n",
       "      <td>2952</td>\n",
       "      <td>10628</td>\n",
       "    </tr>\n",
       "    <tr>\n",
       "      <th>unique</th>\n",
       "      <td>36732</td>\n",
       "      <td>17995</td>\n",
       "      <td>271</td>\n",
       "      <td>719</td>\n",
       "    </tr>\n",
       "    <tr>\n",
       "      <th>top</th>\n",
       "      <td>tt6632018</td>\n",
       "      <td>$713</td>\n",
       "      <td>$30,000,000</td>\n",
       "      <td>Warner Bros.</td>\n",
       "    </tr>\n",
       "    <tr>\n",
       "      <th>freq</th>\n",
       "      <td>1</td>\n",
       "      <td>3</td>\n",
       "      <td>127</td>\n",
       "      <td>581</td>\n",
       "    </tr>\n",
       "  </tbody>\n",
       "</table>\n",
       "</div>"
      ],
      "text/plain": [
       "           tconst Revenue       Budget Production_Company\n",
       "count       36732   18156         2952              10628\n",
       "unique      36732   17995          271                719\n",
       "top     tt6632018    $713  $30,000,000       Warner Bros.\n",
       "freq            1       3          127                581"
      ]
     },
     "execution_count": 37,
     "metadata": {},
     "output_type": "execute_result"
    }
   ],
   "source": [
    "revenue2.describe(include=\"all\")"
   ]
  },
  {
   "cell_type": "code",
   "execution_count": 3,
   "metadata": {},
   "outputs": [],
   "source": [
    "revenue_df =  pd.concat([revenue1, revenue2], ignore_index=True)"
   ]
  },
  {
   "cell_type": "code",
   "execution_count": 4,
   "metadata": {},
   "outputs": [
    {
     "data": {
      "text/html": [
       "<div>\n",
       "<style scoped>\n",
       "    .dataframe tbody tr th:only-of-type {\n",
       "        vertical-align: middle;\n",
       "    }\n",
       "\n",
       "    .dataframe tbody tr th {\n",
       "        vertical-align: top;\n",
       "    }\n",
       "\n",
       "    .dataframe thead th {\n",
       "        text-align: right;\n",
       "    }\n",
       "</style>\n",
       "<table border=\"1\" class=\"dataframe\">\n",
       "  <thead>\n",
       "    <tr style=\"text-align: right;\">\n",
       "      <th></th>\n",
       "      <th>tconst</th>\n",
       "      <th>Revenue</th>\n",
       "      <th>Budget</th>\n",
       "      <th>Production_Company</th>\n",
       "    </tr>\n",
       "  </thead>\n",
       "  <tbody>\n",
       "    <tr>\n",
       "      <th>count</th>\n",
       "      <td>45281</td>\n",
       "      <td>20892</td>\n",
       "      <td>3216</td>\n",
       "      <td>13327</td>\n",
       "    </tr>\n",
       "    <tr>\n",
       "      <th>unique</th>\n",
       "      <td>45281</td>\n",
       "      <td>20671</td>\n",
       "      <td>289</td>\n",
       "      <td>812</td>\n",
       "    </tr>\n",
       "    <tr>\n",
       "      <th>top</th>\n",
       "      <td>tt0353824</td>\n",
       "      <td>$509</td>\n",
       "      <td>$30,000,000</td>\n",
       "      <td>Warner Bros.</td>\n",
       "    </tr>\n",
       "    <tr>\n",
       "      <th>freq</th>\n",
       "      <td>1</td>\n",
       "      <td>8</td>\n",
       "      <td>134</td>\n",
       "      <td>869</td>\n",
       "    </tr>\n",
       "  </tbody>\n",
       "</table>\n",
       "</div>"
      ],
      "text/plain": [
       "           tconst Revenue       Budget Production_Company\n",
       "count       45281   20892         3216              13327\n",
       "unique      45281   20671          289                812\n",
       "top     tt0353824    $509  $30,000,000       Warner Bros.\n",
       "freq            1       8          134                869"
      ]
     },
     "execution_count": 4,
     "metadata": {},
     "output_type": "execute_result"
    }
   ],
   "source": [
    "revenue_df.describe(include=\"all\")"
   ]
  },
  {
   "cell_type": "code",
   "execution_count": 5,
   "metadata": {},
   "outputs": [],
   "source": [
    "d = revenue_df[(revenue_df['Revenue'].notna())]"
   ]
  },
  {
   "cell_type": "code",
   "execution_count": 6,
   "metadata": {},
   "outputs": [
    {
     "data": {
      "text/html": [
       "<div>\n",
       "<style scoped>\n",
       "    .dataframe tbody tr th:only-of-type {\n",
       "        vertical-align: middle;\n",
       "    }\n",
       "\n",
       "    .dataframe tbody tr th {\n",
       "        vertical-align: top;\n",
       "    }\n",
       "\n",
       "    .dataframe thead th {\n",
       "        text-align: right;\n",
       "    }\n",
       "</style>\n",
       "<table border=\"1\" class=\"dataframe\">\n",
       "  <thead>\n",
       "    <tr style=\"text-align: right;\">\n",
       "      <th></th>\n",
       "      <th>tconst</th>\n",
       "      <th>Revenue</th>\n",
       "      <th>Budget</th>\n",
       "      <th>Production_Company</th>\n",
       "    </tr>\n",
       "  </thead>\n",
       "  <tbody>\n",
       "    <tr>\n",
       "      <th>count</th>\n",
       "      <td>20892</td>\n",
       "      <td>20892</td>\n",
       "      <td>3209</td>\n",
       "      <td>12802</td>\n",
       "    </tr>\n",
       "    <tr>\n",
       "      <th>unique</th>\n",
       "      <td>20892</td>\n",
       "      <td>20671</td>\n",
       "      <td>288</td>\n",
       "      <td>768</td>\n",
       "    </tr>\n",
       "    <tr>\n",
       "      <th>top</th>\n",
       "      <td>tt0106827</td>\n",
       "      <td>$509</td>\n",
       "      <td>$30,000,000</td>\n",
       "      <td>Warner Bros.</td>\n",
       "    </tr>\n",
       "    <tr>\n",
       "      <th>freq</th>\n",
       "      <td>1</td>\n",
       "      <td>8</td>\n",
       "      <td>134</td>\n",
       "      <td>849</td>\n",
       "    </tr>\n",
       "  </tbody>\n",
       "</table>\n",
       "</div>"
      ],
      "text/plain": [
       "           tconst Revenue       Budget Production_Company\n",
       "count       20892   20892         3209              12802\n",
       "unique      20892   20671          288                768\n",
       "top     tt0106827    $509  $30,000,000       Warner Bros.\n",
       "freq            1       8          134                849"
      ]
     },
     "execution_count": 6,
     "metadata": {},
     "output_type": "execute_result"
    }
   ],
   "source": [
    "d.describe(include=\"all\")"
   ]
  },
  {
   "cell_type": "code",
   "execution_count": 12,
   "metadata": {},
   "outputs": [
    {
     "data": {
      "text/html": [
       "<div>\n",
       "<style scoped>\n",
       "    .dataframe tbody tr th:only-of-type {\n",
       "        vertical-align: middle;\n",
       "    }\n",
       "\n",
       "    .dataframe tbody tr th {\n",
       "        vertical-align: top;\n",
       "    }\n",
       "\n",
       "    .dataframe thead th {\n",
       "        text-align: right;\n",
       "    }\n",
       "</style>\n",
       "<table border=\"1\" class=\"dataframe\">\n",
       "  <thead>\n",
       "    <tr style=\"text-align: right;\">\n",
       "      <th></th>\n",
       "      <th>tconst</th>\n",
       "      <th>Revenue</th>\n",
       "      <th>Budget</th>\n",
       "      <th>Production_Company</th>\n",
       "    </tr>\n",
       "  </thead>\n",
       "  <tbody>\n",
       "    <tr>\n",
       "      <th>count</th>\n",
       "      <td>12802</td>\n",
       "      <td>12802</td>\n",
       "      <td>3198</td>\n",
       "      <td>12802</td>\n",
       "    </tr>\n",
       "    <tr>\n",
       "      <th>unique</th>\n",
       "      <td>12802</td>\n",
       "      <td>12748</td>\n",
       "      <td>287</td>\n",
       "      <td>768</td>\n",
       "    </tr>\n",
       "    <tr>\n",
       "      <th>top</th>\n",
       "      <td>tt0106827</td>\n",
       "      <td>$8,144</td>\n",
       "      <td>$30,000,000</td>\n",
       "      <td>Warner Bros.</td>\n",
       "    </tr>\n",
       "    <tr>\n",
       "      <th>freq</th>\n",
       "      <td>1</td>\n",
       "      <td>8</td>\n",
       "      <td>132</td>\n",
       "      <td>849</td>\n",
       "    </tr>\n",
       "  </tbody>\n",
       "</table>\n",
       "</div>"
      ],
      "text/plain": [
       "           tconst Revenue       Budget Production_Company\n",
       "count       12802   12802         3198              12802\n",
       "unique      12802   12748          287                768\n",
       "top     tt0106827  $8,144  $30,000,000       Warner Bros.\n",
       "freq            1       8          132                849"
      ]
     },
     "execution_count": 12,
     "metadata": {},
     "output_type": "execute_result"
    }
   ],
   "source": [
    "dt.describe(include=\"all\")"
   ]
  },
  {
   "cell_type": "code",
   "execution_count": 11,
   "metadata": {},
   "outputs": [],
   "source": [
    "dt = d[(d['Production_Company'].notna())]"
   ]
  },
  {
   "cell_type": "code",
   "execution_count": 13,
   "metadata": {},
   "outputs": [],
   "source": [
    "dt.to_csv(\"tconsts_prd_company.csv\", index=False)"
   ]
  },
  {
   "cell_type": "code",
   "execution_count": 47,
   "metadata": {},
   "outputs": [
    {
     "data": {
      "text/plain": [
       "Production_Company\n",
       "Warner Bros.                           869\n",
       "Universal Pictures                     733\n",
       "Twentieth Century Fox                  596\n",
       "Paramount Pictures                     594\n",
       "Walt Disney Studios Motion Pictures    556\n",
       "Sony Pictures Releasing                448\n",
       "IFC Films                              420\n",
       "Lions Gate Films                       362\n",
       "Sony Pictures Classics                 334\n",
       "Metro-Goldwyn-Mayer (MGM)              308\n",
       "Magnolia Pictures                      303\n",
       "Miramax                                294\n",
       "Vertical Entertainment                 228\n",
       "Columbia Pictures                      218\n",
       "New Line Cinema                        211\n",
       "Focus Features                         172\n",
       "Fox Searchligh                         159\n",
       "TriStar Pictures                       152\n",
       "Kino Lorber                            132\n",
       "Roadside Attractions                   132\n",
       "Name: count, dtype: int64"
      ]
     },
     "execution_count": 47,
     "metadata": {},
     "output_type": "execute_result"
    }
   ],
   "source": [
    "revenue_df['Production_Company'].value_counts().head(20)"
   ]
  }
 ],
 "metadata": {
  "kernelspec": {
   "display_name": "Python 3",
   "language": "python",
   "name": "python3"
  },
  "language_info": {
   "codemirror_mode": {
    "name": "ipython",
    "version": 3
   },
   "file_extension": ".py",
   "mimetype": "text/x-python",
   "name": "python",
   "nbconvert_exporter": "python",
   "pygments_lexer": "ipython3",
   "version": "3.11.8"
  }
 },
 "nbformat": 4,
 "nbformat_minor": 2
}
